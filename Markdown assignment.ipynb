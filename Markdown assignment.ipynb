{
 "cells": [
  {
   "cell_type": "code",
   "execution_count": null,
   "source": [],
   "outputs": [],
   "metadata": {}
  },
  {
   "cell_type": "markdown",
   "source": [
    "__Equation in Latex__"
   ],
   "metadata": {}
  },
  {
   "cell_type": "code",
   "execution_count": 1,
   "source": [
    "%%latex \n",
    "1. Angle sum identity\n",
    "\\begin{equation}\n",
    "\\cos (\\alpha \\pm \\beta)=\\cos \\alpha \\cos \\beta \\mp \\sin \\alpha \\sin \\beta \\tag{1}\n",
    "\\end{equation}\n",
    " \n",
    "2. Indefinite integral\n",
    "\\begin{equation}\n",
    "\\int \\frac{1}{1+x^{2}} d x=\\arctan x+C \\tag{2}\n",
    "\\end{equation}\n",
    "\n",
    "3. Navier-Stokes Equation for Incompressible Flow \n",
    "\\begin{equation}\n",
    "\\frac{\\partial \\mathbf{u}}{\\partial t}+(\\mathbf{u} \\cdot \\nabla) \\mathbf{u}-\\nu \\nabla^{2} \\mathbf{u}=-\\nabla w+\\mathbf{g} \\tag{3}\n",
    "\\end{equation}\n",
    "\n",
    "4. Green's Theorem \n",
    "\\begin{equation}\n",
    "\\oint_{C}(L d x+M d y)=\\iint_{D}\\left(\\frac{\\partial M}{\\partial x}-\\frac{\\partial L}{\\partial y}\\right) d x d y \\tag{4}\n",
    "\\end{equation}\n",
    "\n",
    "5. Prime Number Theorem\n",
    "\\begin{equation}\n",
    "\\lim _{x \\rightarrow \\infty} \\frac{\\pi(x)}{\\frac{x}{\\log (x)}}=1 \\tag{5}\n",
    "\\end{equation}\n",
    "\n",
    "6. Taylor series\n",
    "\\begin{equation}\n",
    "\\sum_{n=0}^{\\infty} \\frac{f^{(n)}(a)}{n !}(x-a)^{n} \\tag{6}\n",
    "\\end{equation}\n",
    "\n",
    "7. Stokes' Theorem\n",
    "\\begin{equation}\n",
    "\\int_{\\partial \\Omega} \\omega=\\int_{\\Omega} d \\omega \\tag{7}\n",
    "\\end{equation}\n",
    "\n",
    "8. Tensor product\n",
    "\\begin{equation}\n",
    "\\operatorname{Hom}(U \\otimes V, W) \\cong \\operatorname{Hom}(U, \\operatorname{Hom}(V, W)) \\tag{8}\n",
    "\\end{equation}\n",
    "\n",
    "9. Laplace transform\n",
    "\\begin{equation}\n",
    "\\mathscr{L} f(t)=F(s)=\\int_{0}^{\\infty} f(t) e^{-s t} d t \\tag{9}\n",
    "\\end{equation}\n",
    "\n",
    "10. Inverse matrix formula\n",
    "\\begin{equation}\n",
    "\\left[\\begin{array}{ll} \\tag{10}\n",
    "a & b \\\\\n",
    "c & d\n",
    "\\end{array}\\right]^{-1}=\\frac{1}{a d-b c}\\left[\\begin{array}{cc} \n",
    "d & -b \\\\\n",
    "-c & a\n",
    "\\end{array}\\right]\n",
    "\\end{equation}\n",
    "\n",
    "11. Infinite product formula\n",
    "\\begin{equation}\n",
    "\\sin x=x \\prod_{n=1}^{\\infty}\\left(1-\\frac{x^{2}}{\\pi^{2} n^{2}}\\right) \\tag{11}\n",
    "\\end{equation}\n",
    "\n"
   ],
   "outputs": [
    {
     "output_type": "display_data",
     "data": {
      "text/latex": [
       "1. Angle sum identity\n",
       "\\begin{equation}\n",
       "\\cos (\\alpha \\pm \\beta)=\\cos \\alpha \\cos \\beta \\mp \\sin \\alpha \\sin \\beta \\tag{1}\n",
       "\\end{equation}\n",
       " \n",
       "2. Indefinite integral\n",
       "\\begin{equation}\n",
       "\\int \\frac{1}{1+x^{2}} d x=\\arctan x+C \\tag{2}\n",
       "\\end{equation}\n",
       "\n",
       "3. Navier-Stokes Equation for Incompressible Flow \n",
       "\\begin{equation}\n",
       "\\frac{\\partial \\mathbf{u}}{\\partial t}+(\\mathbf{u} \\cdot \\nabla) \\mathbf{u}-\\nu \\nabla^{2} \\mathbf{u}=-\\nabla w+\\mathbf{g} \\tag{3}\n",
       "\\end{equation}\n",
       "\n",
       "4. Green's Theorem \n",
       "\\begin{equation}\n",
       "\\oint_{C}(L d x+M d y)=\\iint_{D}\\left(\\frac{\\partial M}{\\partial x}-\\frac{\\partial L}{\\partial y}\\right) d x d y \\tag{4}\n",
       "\\end{equation}\n",
       "\n",
       "5. Prime Number Theorem\n",
       "\\begin{equation}\n",
       "\\lim _{x \\rightarrow \\infty} \\frac{\\pi(x)}{\\frac{x}{\\log (x)}}=1 \\tag{5}\n",
       "\\end{equation}\n",
       "\n",
       "6. Taylor series\n",
       "\\begin{equation}\n",
       "\\sum_{n=0}^{\\infty} \\frac{f^{(n)}(a)}{n !}(x-a)^{n} \\tag{6}\n",
       "\\end{equation}\n",
       "\n",
       "7. Stokes' Theorem\n",
       "\\begin{equation}\n",
       "\\int_{\\partial \\Omega} \\omega=\\int_{\\Omega} d \\omega \\tag{7}\n",
       "\\end{equation}\n",
       "\n",
       "8. Tensor product\n",
       "\\begin{equation}\n",
       "\\operatorname{Hom}(U \\otimes V, W) \\cong \\operatorname{Hom}(U, \\operatorname{Hom}(V, W)) \\tag{8}\n",
       "\\end{equation}\n",
       "\n",
       "9. Laplace transform\n",
       "\\begin{equation}\n",
       "\\mathscr{L} f(t)=F(s)=\\int_{0}^{\\infty} f(t) e^{-s t} d t \\tag{9}\n",
       "\\end{equation}\n",
       "\n",
       "10. Inverse matrix formula\n",
       "\\begin{equation}\n",
       "\\left[\\begin{array}{ll} \\tag{10}\n",
       "a & b \\\\\n",
       "c & d\n",
       "\\end{array}\\right]^{-1}=\\frac{1}{a d-b c}\\left[\\begin{array}{cc} \n",
       "d & -b \\\\\n",
       "-c & a\n",
       "\\end{array}\\right]\n",
       "\\end{equation}\n",
       "\n",
       "11. Infinite product formula\n",
       "\\begin{equation}\n",
       "\\sin x=x \\prod_{n=1}^{\\infty}\\left(1-\\frac{x^{2}}{\\pi^{2} n^{2}}\\right) \\tag{11}\n",
       "\\end{equation}\n",
       "\n"
      ],
      "text/plain": [
       "<IPython.core.display.Latex object>"
      ]
     },
     "metadata": {}
    }
   ],
   "metadata": {}
  },
  {
   "cell_type": "code",
   "execution_count": null,
   "source": [],
   "outputs": [],
   "metadata": {}
  },
  {
   "cell_type": "code",
   "execution_count": null,
   "source": [],
   "outputs": [],
   "metadata": {}
  }
 ],
 "metadata": {
  "kernelspec": {
   "name": "python3",
   "display_name": "Python 3.9.5 64-bit ('base': conda)"
  },
  "language_info": {
   "codemirror_mode": {
    "name": "ipython",
    "version": 3
   },
   "file_extension": ".py",
   "mimetype": "text/x-python",
   "name": "python",
   "nbconvert_exporter": "python",
   "pygments_lexer": "ipython3",
   "version": "3.9.5"
  },
  "toc": {
   "base_numbering": 1,
   "nav_menu": {},
   "number_sections": true,
   "sideBar": true,
   "skip_h1_title": false,
   "title_cell": "Table of Contents",
   "title_sidebar": "Contents",
   "toc_cell": false,
   "toc_position": {},
   "toc_section_display": true,
   "toc_window_display": false
  },
  "varInspector": {
   "cols": {
    "lenName": 16,
    "lenType": 16,
    "lenVar": 40
   },
   "kernels_config": {
    "python": {
     "delete_cmd_postfix": "",
     "delete_cmd_prefix": "del ",
     "library": "var_list.py",
     "varRefreshCmd": "print(var_dic_list())"
    },
    "r": {
     "delete_cmd_postfix": ") ",
     "delete_cmd_prefix": "rm(",
     "library": "var_list.r",
     "varRefreshCmd": "cat(var_dic_list()) "
    }
   },
   "types_to_exclude": [
    "module",
    "function",
    "builtin_function_or_method",
    "instance",
    "_Feature"
   ],
   "window_display": false
  },
  "interpreter": {
   "hash": "e0b82b03ae34a40beca8bd8682077e86f8468e16afb41721663677921aa656af"
  }
 },
 "nbformat": 4,
 "nbformat_minor": 5
}